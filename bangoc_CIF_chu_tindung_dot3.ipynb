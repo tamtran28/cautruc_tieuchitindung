{
  "cells": [
    {
      "cell_type": "markdown",
      "metadata": {
        "id": "view-in-github",
        "colab_type": "text"
      },
      "source": [
        "<a href=\"https://colab.research.google.com/github/tamtran28/cautruc_tieuchitindung/blob/main/bangoc_CIF_chu_tindung_dot3.ipynb\" target=\"_parent\"><img src=\"https://colab.research.google.com/assets/colab-badge.svg\" alt=\"Open In Colab\"/></a>"
      ]
    },
    {
      "cell_type": "code",
      "execution_count": null,
      "metadata": {
        "id": "wMpONuKtJPcN"
      },
      "outputs": [],
      "source": [
        "import pandas as pd\n",
        "import numpy as np\n",
        "import glob\n",
        "import os\n",
        "\n",
        "# 1. Đọc tất cả file HDV chi tiết CKH (*.xlsx)\n",
        "crm4_files = glob.glob(\"/content/vb/CRM4_Du_no_theo_tai_san_dam_bao_ALL*.xls\")  # /content/vb/CRM4_Du_no_theo_tai_san_dam_bao_ALL0.xlshoặc *.xls nếu file cũ/content/vb\n",
        "\n",
        "crm32_files = glob.glob(\"/content/vb/RPT_CRM_32*.xls\")\n",
        "df_muc_dich_file = pd.read_excel(\"/content/vb/CODE_MDSDV4.xlsx\")\n",
        "df_code_tsbd_file = pd.read_excel(\"/content/vb/CODE_LOAI TSBD.xlsx\")\n",
        "\n",
        "# Các cột cần lấy từ từng file\n",
        "# Đọc file\n",
        "# 1.1. Ghép tất cả file\n",
        "df_crm4_ghep = [pd.read_excel(f) for f in crm4_files]\n",
        "df_crm4 = pd.concat(df_crm4_ghep, ignore_index=True)\n",
        "\n",
        "# 1.2. Ghép tất cả file CRM32\n",
        "df_crm32_ghep = [pd.read_excel(f) for f in crm32_files]\n",
        "df_crm32 = pd.concat(df_crm32_ghep, ignore_index=True)"
      ]
    },
    {
      "cell_type": "code",
      "source": [
        "for df in [df_crm4]:\n",
        "    if 'CIF_KH_VAY' in df.columns:\n",
        "        df['CIF_KH_VAY'] = pd.to_numeric(df['CIF_KH_VAY'], errors='coerce')  # về dạng float\n",
        "        df['CIF_KH_VAY'] = df['CIF_KH_VAY'].dropna().astype('int64').astype(str)  # về int rồi về str"
      ],
      "metadata": {
        "id": "eH_07i17hSaw"
      },
      "execution_count": null,
      "outputs": []
    },
    {
      "cell_type": "code",
      "source": [
        "for df in [df_crm32]:\n",
        "    if 'CUSTSEQLN' in df.columns:\n",
        "        df['CUSTSEQLN'] = pd.to_numeric(df['CUSTSEQLN'], errors='coerce')  # về dạng float\n",
        "        df['CUSTSEQLN'] = df['CUSTSEQLN'].dropna().astype('int64').astype(str)  # về int rồi về str"
      ],
      "metadata": {
        "id": "ny7NSK7xhi5J"
      },
      "execution_count": null,
      "outputs": []
    },
    {
      "cell_type": "code",
      "execution_count": null,
      "metadata": {
        "id": "mtaotsB_Jztv"
      },
      "outputs": [],
      "source": [
        "df_crm4_list =df_crm4_ghep.copy()\n",
        "df_crm32_list=df_crm32_ghep.copy()\n",
        "df_muc_dich = df_muc_dich_file.copy()\n",
        "df_code_tsbd = df_code_tsbd_file.copy()"
      ]
    },
    {
      "cell_type": "code",
      "execution_count": null,
      "metadata": {
        "id": "qBnsaFmMJ16y",
        "colab": {
          "base_uri": "https://localhost:8080/"
        },
        "outputId": "9e2930bd-6751-4205-a98d-61c75784759a"
      },
      "outputs": [
        {
          "output_type": "stream",
          "name": "stdout",
          "text": [
            "Nhập tên chi nhánh hoặc mã SOL cần lọc (ví dụ: HANOI hoặc 001): 1610\n",
            "📌 Số dòng sau khi lọc FTP theo chi nhánh '1610': 327\n"
          ]
        }
      ],
      "source": [
        "chi_nhanh = input(\"Nhập tên chi nhánh hoặc mã SOL cần lọc (ví dụ: HANOI hoặc 001): \").strip().upper()\n",
        "\n",
        "# ✅ Lọc dữ liệu theo BRCD chứa chuỗi nhập vào\n",
        "df_crm4_filtered = df_crm4[df_crm4['BRANCH_VAY'].astype(str).str.upper().str.contains(chi_nhanh)]\n",
        "df_crm32_filtered = df_crm32[df_crm32['BRCD'].astype(str).str.upper().str.contains(chi_nhanh)]\n",
        "\n",
        "# In preview\n",
        "print(f\"📌 Số dòng sau khi lọc FTP theo chi nhánh '{chi_nhanh}': {len(df_crm4_filtered)}\")\n",
        "# print(df_crm4_filtered.head())\n"
      ]
    },
    {
      "cell_type": "code",
      "source": [],
      "metadata": {
        "id": "EVMfWvOCgqvi"
      },
      "execution_count": null,
      "outputs": []
    },
    {
      "cell_type": "code",
      "execution_count": null,
      "metadata": {
        "id": "-b3Iue4cJ53A"
      },
      "outputs": [],
      "source": [
        "# Giả sử cột chứa code là 'CODE CAP 2' và mã phân loại là 'CODE'\n",
        "df_code_tsbd = df_code_tsbd[['CODE CAP 2', 'CODE']]\n",
        "df_code_tsbd.columns = ['CAP_2', 'LOAI_TS']"
      ]
    },
    {
      "cell_type": "code",
      "execution_count": null,
      "metadata": {
        "id": "VOeeMNLERJ0s"
      },
      "outputs": [],
      "source": [
        "# 1. Tạo bản sao nhỏ gọn từ df_code_tsbd chỉ lấy 2 cột cần dùng\n",
        "df_tsbd_code = df_code_tsbd[['CAP_2', 'LOAI_TS']].drop_duplicates()\n",
        "\n",
        "# 2. Merge để lấy LOAI_TS vào df_crm4_filtered\n",
        "df_crm4_filtered = df_crm4_filtered.merge(df_tsbd_code, how='left', on='CAP_2')\n",
        "\n",
        "# 3. Gán 'Không TS' nếu CAP_2 rỗng hoặc NaN\n",
        "df_crm4_filtered['LOAI_TS'] = df_crm4_filtered.apply(\n",
        "    lambda row: 'Không TS' if pd.isna(row['CAP_2']) or str(row['CAP_2']).strip() == '' else row['LOAI_TS'],\n",
        "    axis=1\n",
        ")\n",
        "\n",
        "# 4. Ghi chú 'MỚI' nếu CAP_2 có nhưng LOAI_TS vẫn NaN (không khớp trong bảng mã)\n",
        "df_crm4_filtered['GHI_CHU_TSBD'] = df_crm4_filtered.apply(\n",
        "    lambda row: 'MỚI' if str(row['CAP_2']).strip() != '' and pd.isna(row['LOAI_TS']) else '',\n",
        "    axis=1\n",
        ")\n"
      ]
    },
    {
      "cell_type": "code",
      "execution_count": null,
      "metadata": {
        "id": "WVmYyytcRLEu"
      },
      "outputs": [],
      "source": [
        "df_vay_4 = df_crm4_filtered.copy()"
      ]
    },
    {
      "cell_type": "code",
      "execution_count": null,
      "metadata": {
        "id": "LJrZ5rbhUXcg"
      },
      "outputs": [],
      "source": [
        "# Bỏ các dòng có LOAI là \"Bao lanh\" hoặc \"LC\"\n",
        "df_vay = df_vay_4[~df_vay_4['LOAI'].isin(['Bao lanh', 'LC'])]"
      ]
    },
    {
      "cell_type": "code",
      "execution_count": null,
      "metadata": {
        "id": "UY7oMDZEUZLJ"
      },
      "outputs": [],
      "source": [
        "pivot_ts = df_vay.pivot_table(\n",
        "    index='CIF_KH_VAY',\n",
        "    columns='LOAI_TS',\n",
        "    values='TS_KW_VND',\n",
        "    aggfunc='sum',\n",
        "    fill_value=0\n",
        ").add_suffix(' (Giá trị TS)').reset_index()\n",
        "\n",
        "pivot_no = df_vay.pivot_table(\n",
        "    index='CIF_KH_VAY',\n",
        "    columns='LOAI_TS',\n",
        "    values='DU_NO_PHAN_BO_QUY_DOI',\n",
        "    aggfunc='sum',\n",
        "    fill_value=0\n",
        ").reset_index()\n"
      ]
    },
    {
      "cell_type": "code",
      "execution_count": null,
      "metadata": {
        "id": "bQHq5_fmUtDf"
      },
      "outputs": [],
      "source": [
        "pivot_merge = pivot_no.merge(pivot_ts, on='CIF_KH_VAY', how='left')\n",
        "pivot_merge['GIÁ TRỊ TS'] = pivot_ts.drop(columns='CIF_KH_VAY').sum(axis=1)\n",
        "pivot_merge['DƯ NỢ'] = pivot_no.drop(columns='CIF_KH_VAY').sum(axis=1)"
      ]
    },
    {
      "cell_type": "code",
      "execution_count": null,
      "metadata": {
        "id": "jNEVH_TnUwS_"
      },
      "outputs": [],
      "source": [
        "df_info = df_crm4_filtered[['CIF_KH_VAY', 'TEN_KH_VAY', 'CUSTTPCD', 'NHOM_NO']].drop_duplicates(subset='CIF_KH_VAY')\n",
        "pivot_final = df_info.merge(pivot_merge, on='CIF_KH_VAY', how='left')\n",
        "pivot_final = pivot_final.reset_index().rename(columns={'index': 'STT'})\n",
        "pivot_final['STT'] += 1"
      ]
    },
    {
      "cell_type": "code",
      "execution_count": null,
      "metadata": {
        "id": "9G4HRse8aPHV"
      },
      "outputs": [],
      "source": [
        "cols_order = ['STT', 'CUSTTPCD', 'CIF_KH_VAY', 'TEN_KH_VAY', 'NHOM_NO'] + \\\n",
        "             sorted([col for col in pivot_merge.columns if col not in ['CIF_KH_VAY', 'GIÁ TRỊ TS', 'DƯ NỢ'] and '(Giá trị TS)' not in col]) + \\\n",
        "             sorted([col for col in pivot_merge.columns if '(Giá trị TS)' in col]) + \\\n",
        "             ['DƯ NỢ', 'GIÁ TRỊ TS']\n",
        "\n",
        "pivot_final = pivot_final[cols_order]"
      ]
    },
    {
      "cell_type": "code",
      "execution_count": null,
      "metadata": {
        "id": "xC2HmUvMehSg",
        "colab": {
          "base_uri": "https://localhost:8080/"
        },
        "outputId": "75f90e1c-8754-4a58-f00c-44c450b077bf"
      },
      "outputs": [
        {
          "output_type": "stream",
          "name": "stdout",
          "text": [
            "     STT CUSTTPCD CIF_KH_VAY           TEN_KH_VAY  NHOM_NO          BĐS  GTCG  \\\n",
            "0      1  Ca nhan  103992203            TRAN TUAN        5   21075840.0   0.0   \n",
            "1      2  Ca nhan  116606267   LUONG THI NGOC ANH        1  144000000.0   0.0   \n",
            "2      3  Ca nhan  112936963      NGUYEN HOANG HA        1  239050000.0   0.0   \n",
            "3      4  Ca nhan  106071335     LE THI TUYET NGA        1  107620000.0   0.0   \n",
            "4      5  Ca nhan  118513828   TRAN THI THU HUYEN        1  148897000.0   0.0   \n",
            "..   ...      ...        ...                  ...      ...          ...   ...   \n",
            "181  182  Ca nhan  118752694        DANG THANH VU        1          0.0   0.0   \n",
            "182  183  Ca nhan  121254980    LE THI NGOC TRANG        1          0.0   0.0   \n",
            "183  184  Ca nhan  121278521        LE THI MY HOI        1          0.0   0.0   \n",
            "184  185  Ca nhan  106784138     PHAM THI ANH THU        1          0.0   0.0   \n",
            "185  186  Ca nhan  110644865  PHAM THI THANH LOAN        1          0.0   0.0   \n",
            "\n",
            "       Không TS  MMTB  PTVT  ...  Vàng  BĐS (Giá trị TS)  GTCG (Giá trị TS)  \\\n",
            "0           0.0   0.0   0.0  ...   0.0      1.389000e+09                0.0   \n",
            "1           0.0   0.0   0.0  ...   0.0      4.570000e+08                0.0   \n",
            "2           0.0   0.0   0.0  ...   0.0      2.140000e+09                0.0   \n",
            "3           0.0   0.0   0.0  ...   0.0      7.280000e+08                0.0   \n",
            "4           0.0   0.0   0.0  ...   0.0      4.000000e+09                0.0   \n",
            "..          ...   ...   ...  ...   ...               ...                ...   \n",
            "181   9640450.0   0.0   0.0  ...   0.0      0.000000e+00                0.0   \n",
            "182    460411.0   0.0   0.0  ...   0.0      0.000000e+00                0.0   \n",
            "183    519510.0   0.0   0.0  ...   0.0      0.000000e+00                0.0   \n",
            "184  98028514.0   0.0   0.0  ...   0.0      0.000000e+00                0.0   \n",
            "185    451109.0   0.0   0.0  ...   0.0      0.000000e+00                0.0   \n",
            "\n",
            "     Không TS (Giá trị TS)  MMTB (Giá trị TS)  PTVT (Giá trị TS)  \\\n",
            "0                      0.0                0.0                0.0   \n",
            "1                      0.0                0.0                0.0   \n",
            "2                      0.0                0.0                0.0   \n",
            "3                      0.0                0.0                0.0   \n",
            "4                      0.0                0.0                0.0   \n",
            "..                     ...                ...                ...   \n",
            "181                    0.0                0.0                0.0   \n",
            "182                    0.0                0.0                0.0   \n",
            "183                    0.0                0.0                0.0   \n",
            "184                    0.0                0.0                0.0   \n",
            "185                    0.0                0.0                0.0   \n",
            "\n",
            "     QTS (Giá trị TS)  Vàng (Giá trị TS)        DƯ NỢ    GIÁ TRỊ TS  \n",
            "0                 0.0                0.0   21075840.0  1.389000e+09  \n",
            "1                 0.0                0.0  144000000.0  4.570000e+08  \n",
            "2                 0.0                0.0  239050000.0  2.140000e+09  \n",
            "3                 0.0                0.0  107620000.0  7.280000e+08  \n",
            "4                 0.0                0.0  148897000.0  4.000000e+09  \n",
            "..                ...                ...          ...           ...  \n",
            "181               0.0                0.0    9640450.0  0.000000e+00  \n",
            "182               0.0                0.0     460411.0  0.000000e+00  \n",
            "183               0.0                0.0     519510.0  0.000000e+00  \n",
            "184               0.0                0.0   98028514.0  0.000000e+00  \n",
            "185               0.0                0.0     451109.0  0.000000e+00  \n",
            "\n",
            "[186 rows x 21 columns]\n"
          ]
        }
      ],
      "source": [
        "print(pivot_final)"
      ]
    },
    {
      "cell_type": "code",
      "execution_count": null,
      "metadata": {
        "id": "PFEwagCwgETG"
      },
      "outputs": [],
      "source": [
        "# 1. Chuẩn hóa mã CAP_PHE_DUYET trong df_crm4_filtered\n",
        "df_crm32_filtered = df_crm32_filtered.copy()\n",
        "df_crm32_filtered['MA_PHE_DUYET'] = df_crm32_filtered['CAP_PHE_DUYET'].astype(str).str.split('-').str[0].str.strip().str.zfill(2)\n"
      ]
    },
    {
      "cell_type": "code",
      "execution_count": null,
      "metadata": {
        "id": "Iub5Am98gHWx"
      },
      "outputs": [],
      "source": [
        "# 2. Tạo danh sách CIF có cấp phê duyệt cấp C\n",
        "ma_cap_c = [f\"{i:02d}\" for i in range(1, 8)] + [f\"{i:02d}\" for i in range(28, 32)]\n",
        "list_cif_cap_c = df_crm32_filtered[df_crm32_filtered['MA_PHE_DUYET'].isin(ma_cap_c)]['CUSTSEQLN'].unique()"
      ]
    },
    {
      "cell_type": "code",
      "execution_count": null,
      "metadata": {
        "id": "mzM5_u2-gHwV"
      },
      "outputs": [],
      "source": [
        "list_co_cau = ['ACOV1', 'ACOV3', 'ATT01', 'ATT02', 'ATT03', 'ATT04',\n",
        "               'BCOV1', 'BCOV2', 'BTT01', 'BTT02', 'BTT03',\n",
        "               'CCOV2', 'CCOV3', 'CTT03', 'RCOV3', 'RTT03']\n",
        "cif_co_cau = df_crm32_filtered[\n",
        "    df_crm32_filtered['SCHEME_CODE'].isin(list_co_cau)\n",
        "]['CUSTSEQLN'].unique()"
      ]
    },
    {
      "cell_type": "markdown",
      "metadata": {
        "id": "3TxBCM0CgMZs"
      },
      "source": [
        "ghi chu"
      ]
    },
    {
      "cell_type": "code",
      "execution_count": null,
      "metadata": {
        "id": "yrXff8NDgJWn"
      },
      "outputs": [],
      "source": [
        "# Giả sử cột chứa code là 'CODE CAP 2' và mã phân loại là 'CODE'\n",
        "df_muc_dich_vay = df_muc_dich[['CODE_MDSDV4', 'GROUP']]\n",
        "df_muc_dich_vay.columns = ['MUC_DICH_VAY_CAP_4', 'MUC DICH']\n"
      ]
    },
    {
      "cell_type": "code",
      "execution_count": null,
      "metadata": {
        "id": "h7wsRzgWgMFB"
      },
      "outputs": [],
      "source": [
        "# 1. Tạo bản sao nhỏ gọn từ df_code_tsbd chỉ lấy 2 cột cần dùng\n",
        "df_muc_dich = df_muc_dich_vay[['MUC_DICH_VAY_CAP_4', 'MUC DICH']].drop_duplicates()\n",
        "\n",
        "# 2. Merge để lấy LOAI_TS vào df_crm4_filtered\n",
        "df_crm32_filtered = df_crm32_filtered.merge(df_muc_dich_vay, how='left', on='MUC_DICH_VAY_CAP_4')\n",
        "df_crm32_filtered['MUC DICH'] = df_crm32_filtered['MUC DICH'].fillna('(blank)')\n",
        "# 4. Ghi chú 'MỚI' nếu CAP_2 có nhưng LOAI_TS vẫn NaN (không khớp trong bảng mã)\n",
        "df_crm32_filtered['GHI_CHU_TSBD'] = df_crm32_filtered.apply(\n",
        "    lambda row: 'MỚI' if str(row['MUC_DICH_VAY_CAP_4']).strip() != '' and pd.isna(row['MUC DICH']) else '',\n",
        "    axis=1\n",
        ")\n"
      ]
    },
    {
      "cell_type": "code",
      "source": [
        "df_crm32_filtered.to_excel('df_crm32_filtered.xlsx', index=False)"
      ],
      "metadata": {
        "id": "NoLW5eyXExH6"
      },
      "execution_count": null,
      "outputs": []
    },
    {
      "cell_type": "markdown",
      "metadata": {
        "id": "pLZmzv72gSWV"
      },
      "source": [
        "cr32"
      ]
    },
    {
      "cell_type": "code",
      "execution_count": null,
      "metadata": {
        "id": "Dcs0fNhfgTU2"
      },
      "outputs": [],
      "source": [
        "pivot_mucdich = df_crm32_filtered.pivot_table(\n",
        "    index='CUSTSEQLN',\n",
        "    columns='MUC DICH',\n",
        "    values='DU_NO_QUY_DOI',\n",
        "    aggfunc='sum',\n",
        "    fill_value=0\n",
        ").reset_index()\n"
      ]
    },
    {
      "cell_type": "code",
      "execution_count": null,
      "metadata": {
        "id": "u6dhFmKCgU9Y"
      },
      "outputs": [],
      "source": [
        "pivot_mucdich['DƯ NỢ CRM32'] = pivot_mucdich.drop(columns='CUSTSEQLN').sum(axis=1)"
      ]
    },
    {
      "cell_type": "code",
      "execution_count": null,
      "metadata": {
        "id": "qB-ORdLPgZ7J"
      },
      "outputs": [],
      "source": [
        "# 1. Đổi tên CUSTSEQLN để đồng bộ khóa ghép\n",
        "pivot_final_CRM32 = pivot_mucdich.rename(columns={'CUSTSEQLN': 'CIF_KH_VAY'})\n",
        "# 2. Ghép bảng chính với CRM32\n",
        "pivot_full = pivot_final.merge(pivot_final_CRM32, on='CIF_KH_VAY', how='left')\n",
        "pivot_full.fillna(0, inplace=True)"
      ]
    },
    {
      "cell_type": "code",
      "execution_count": null,
      "metadata": {
        "id": "CBukPANBgbQ4"
      },
      "outputs": [],
      "source": [
        "# 1. Tính lệch dư nợ\n",
        "pivot_full['LECH'] = pivot_full['DƯ NỢ'] - pivot_full['DƯ NỢ CRM32']\n",
        "pivot_full['LECH'] = pivot_full['LECH'].fillna(0)\n",
        "\n",
        "# 2. Lọc các CIF bị lệch\n",
        "cif_lech = pivot_full[pivot_full['LECH'] != 0]['CIF_KH_VAY'].unique()\n",
        "\n",
        "# 3. Lọc CRM4: loại bỏ 'Cho vay'\n",
        "df_crm4_blank = df_crm4_filtered[~df_crm4_filtered['LOAI'].isin(['Cho vay', 'Bao lanh', 'LC'])].copy()\n",
        "\n",
        "\n",
        "# 4. Tổng dư nợ theo CIF bị lệch\n",
        "du_no_bosung = (\n",
        "    df_crm4_blank[df_crm4_blank['CIF_KH_VAY'].isin(cif_lech)]\n",
        "    .groupby('CIF_KH_VAY', as_index=False)['DU_NO_PHAN_BO_QUY_DOI']\n",
        "    .sum()\n",
        "    .rename(columns={'DU_NO_PHAN_BO_QUY_DOI': '(blank)'})\n",
        ")\n",
        "\n",
        "# 5. Gộp dư nợ bổ sung vào pivot_full\n",
        "pivot_full = pivot_full.merge(du_no_bosung, on='CIF_KH_VAY', how='left')\n",
        "pivot_full['(blank)'] = pivot_full['(blank)'].fillna(0)\n",
        "\n",
        "# 6. Cộng vào DƯ NỢ CRM32\n",
        "pivot_full['DƯ NỢ CRM32'] = pivot_full['DƯ NỢ CRM32'] + pivot_full['(blank)']\n",
        "\n",
        "# 7. Sắp xếp lại cột: đưa (blank) lên trước DƯ NỢ CRM32\n",
        "cols = list(pivot_full.columns)\n",
        "if '(blank)' in cols and 'DƯ NỢ CRM32' in cols:\n",
        "    cols.insert(cols.index('DƯ NỢ CRM32'), cols.pop(cols.index('(blank)')))\n",
        "    pivot_full = pivot_full[cols]\n",
        "\n",
        "# 8. Cập nhật lại LECH sau khi cộng bổ sung\n",
        "# pivot_full['LECH'] = pivot_full['DƯ NỢ'] - pivot_full['DƯ NỢ CRM32']\n"
      ]
    },
    {
      "cell_type": "code",
      "execution_count": null,
      "metadata": {
        "id": "hIUbxqQxgcv9"
      },
      "outputs": [],
      "source": [
        "pivot_full['Nợ nhóm 2'] = pivot_full['NHOM_NO'].apply(lambda x: 'x' if str(x).strip() == '2' else '')\n",
        "pivot_full['Nợ xấu'] = pivot_full['NHOM_NO'].apply(lambda x: 'x' if str(x).strip() in ['3', '4', '5'] else '')\n"
      ]
    },
    {
      "cell_type": "code",
      "execution_count": null,
      "metadata": {
        "id": "T_kA6iGlgeTa"
      },
      "outputs": [],
      "source": [
        "pivot_full['Chuyên gia PD cấp C duyệt'] = pivot_full['CIF_KH_VAY'].apply(lambda x: 'x' if x in list_cif_cap_c else '')"
      ]
    },
    {
      "cell_type": "code",
      "execution_count": null,
      "metadata": {
        "id": "3ww_Ltm_gf0H"
      },
      "outputs": [],
      "source": [
        "pivot_full['NỢ CƠ_CẤU'] = pivot_full['CIF_KH_VAY'].apply(\n",
        "    lambda x: 'x' if x in cif_co_cau else ''\n",
        ")\n"
      ]
    },
    {
      "cell_type": "code",
      "execution_count": null,
      "metadata": {
        "id": "HzrsImfdghRR"
      },
      "outputs": [],
      "source": [
        "# Lọc dữ liệu từ CRM4 (LOAI = Bao lanh hoặc LC)\n",
        "#df_crm4_filtered['LOAI'] = df_crm4_filtered['LOAI'].str.strip().str.upper()\n",
        "df_baolanh = df_crm4_filtered[df_crm4_filtered['LOAI'] == 'Bao lanh']\n",
        "df_lc = df_crm4_filtered[df_crm4_filtered['LOAI'] == 'LC']\n",
        "\n",
        "# Gộp tổng dư nợ theo CIF (tạo DataFrame, KHÔNG dùng dict)\n",
        "df_baolanh_sum = df_baolanh.groupby('CIF_KH_VAY', as_index=False)['DU_NO_PHAN_BO_QUY_DOI'].sum()\n",
        "df_baolanh_sum = df_baolanh_sum.rename(columns={'DU_NO_PHAN_BO_QUY_DOI': 'DƯ_NỢ_BẢO_LÃNH'})\n",
        "\n",
        "df_lc_sum = df_lc.groupby('CIF_KH_VAY', as_index=False)['DU_NO_PHAN_BO_QUY_DOI'].sum()\n",
        "df_lc_sum = df_lc_sum.rename(columns={'DU_NO_PHAN_BO_QUY_DOI': 'DƯ_NỢ_LC'})\n",
        "\n",
        "# Trước khi merge, nếu pivot_full đã có cột DƯ_NỢ_BẢO_LÃNH thì xóa đi để tránh trùng\n",
        "if 'DƯ_NỢ_BẢO_LÃNH' in pivot_full.columns:\n",
        "    pivot_full = pivot_full.drop(columns=['DƯ_NỢ_BẢO_LÃNH'])\n",
        "\n",
        "# Merge dư nợ bảo lãnh\n",
        "pivot_full = pivot_full.merge(df_baolanh_sum, on='CIF_KH_VAY', how='left')\n",
        "\n",
        "# Merge dư nợ LC (tương tự, tránh trùng tên)\n",
        "if 'DƯ_NỢ_LC' in pivot_full.columns:\n",
        "    pivot_full = pivot_full.drop(columns=['DƯ_NỢ_LC'])\n",
        "\n",
        "pivot_full = pivot_full.merge(df_lc_sum, on='CIF_KH_VAY', how='left')\n",
        "\n",
        "# Fill NaN nếu không có dư nợ\n",
        "pivot_full['DƯ_NỢ_BẢO_LÃNH'] = pivot_full['DƯ_NỢ_BẢO_LÃNH'].fillna(0)\n",
        "pivot_full['DƯ_NỢ_LC'] = pivot_full['DƯ_NỢ_LC'].fillna(0)\n"
      ]
    },
    {
      "cell_type": "markdown",
      "metadata": {
        "id": "7alOSqbugkeh"
      },
      "source": [
        "giai ngan 1 ty"
      ]
    },
    {
      "cell_type": "code",
      "execution_count": null,
      "metadata": {
        "id": "0SAIdeBZgly9"
      },
      "outputs": [],
      "source": [
        "df_giai_ngan = pd.read_excel('/content/vb/Giai_ngan_tien_mat_1_ty.xls')"
      ]
    },
    {
      "cell_type": "code",
      "execution_count": null,
      "metadata": {
        "id": "cUi9dCJvUDuJ"
      },
      "outputs": [],
      "source": [
        "import pandas as pd\n",
        "\n",
        "# 1. Chuẩn hóa dữ liệu: ép kiểu chuỗi, loại bỏ khoảng trắng\n",
        "df_crm32_filtered['KHE_UOC'] = df_crm32_filtered['KHE_UOC'].astype(str).str.strip()\n",
        "df_crm32_filtered['CUSTSEQLN'] = df_crm32_filtered['CUSTSEQLN'].astype(str).str.strip()\n",
        "df_giai_ngan['FORACID'] = df_giai_ngan['FORACID'].astype(str).str.strip()\n",
        "pivot_full['CIF_KH_VAY'] = pivot_full['CIF_KH_VAY'].astype(str).str.strip()\n",
        "\n",
        "# 2. Lọc các khế ước tại CRM32 khớp với FORACID\n",
        "df_match = df_crm32_filtered[df_crm32_filtered['KHE_UOC'].isin(df_giai_ngan['FORACID'])].copy()\n",
        "\n",
        "# 3. Lấy danh sách CIF của các khế ước khớp\n",
        "ds_cif_tien_mat = df_match['CUSTSEQLN'].unique()\n",
        "\n",
        "# 4. Đánh dấu vào pivot_full\n",
        "pivot_full['GIẢI_NGÂN_TIEN_MAT'] = pivot_full['CIF_KH_VAY'].isin(ds_cif_tien_mat).map({True: 'x', False: ''})\n"
      ]
    },
    {
      "cell_type": "code",
      "execution_count": null,
      "metadata": {
        "id": "YIcvZnNWgmMz"
      },
      "outputs": [],
      "source": [
        "list_foracid = df_giai_ngan['FORACID'].astype(str).str.strip().unique()"
      ]
    },
    {
      "cell_type": "code",
      "execution_count": null,
      "metadata": {
        "id": "6UBgr9fFHshW"
      },
      "outputs": [],
      "source": [
        "print(df_match)"
      ]
    },
    {
      "cell_type": "code",
      "execution_count": null,
      "metadata": {
        "id": "fUvgPSozRnJV"
      },
      "outputs": [],
      "source": []
    },
    {
      "cell_type": "code",
      "execution_count": null,
      "metadata": {
        "id": "UB5PBXQsJVwm"
      },
      "outputs": [],
      "source": [
        "# # Chuẩn hóa giá trị KHE_UOC để đảm bảo không có khoảng trắng thừa\n",
        "# list_khe_uoc_crm32 = df_crm32_filter['KHE_UOC'].astype(str).str.strip().unique().tolist()\n"
      ]
    },
    {
      "cell_type": "code",
      "execution_count": null,
      "metadata": {
        "id": "Kbme-o6LJg8p"
      },
      "outputs": [],
      "source": [
        "# pivot_full['GIẢI_NGÂN_TIỀN_MẶT'] = pivot_full['CIF_KH_VAY'].astype(str).str.strip().isin(list_khe_uoc_crm32).map({True: 'x', False: ''})\n"
      ]
    },
    {
      "cell_type": "code",
      "execution_count": null,
      "metadata": {
        "id": "o8o4nwddgpsx"
      },
      "outputs": [],
      "source": [
        "# pivot_full['GIẢI_NGÂN_TIEN_MAT'] = pivot_full['CIF_KH_VAY'].astype(str).str.strip().isin(list_foracid).map({True: 'x', False: ''})\n"
      ]
    },
    {
      "cell_type": "code",
      "source": [
        "# # Ép kiểu về string cho cả hai DataFrame\n",
        "# df_cc_flag['CIF_KH_VAY'] = df_cc_flag['CIF_KH_VAY'].astype(str)\n",
        "# pivot_full['CIF_KH_VAY'] = pivot_full['CIF_KH_VAY'].astype(str)\n",
        "\n",
        "# # Ghép vào pivot_full\n",
        "# pivot_full = pivot_full.merge(df_cc_flag, on='CIF_KH_VAY', how='left')\n",
        "# pivot_full['Cầm cố tại TCTD khác'] = pivot_full['Cầm cố tại TCTD khác'].fillna('')\n"
      ],
      "metadata": {
        "id": "GgOkSWY3XtO0"
      },
      "execution_count": null,
      "outputs": []
    },
    {
      "cell_type": "code",
      "execution_count": null,
      "metadata": {
        "id": "zXfHjLyEgrTD"
      },
      "outputs": [],
      "source": [
        "df_cc_tctd = df_crm4_filtered[df_crm4_filtered['CAP_2'].str.contains('TCTD', case=False, na=False)]\n",
        "df_cc_flag = df_cc_tctd[['CIF_KH_VAY']].drop_duplicates()\n",
        "df_cc_flag['Cầm cố tại TCTD khác'] = 'x'\n",
        "\n",
        "# Ghép vào pivot_full\n",
        "pivot_full = pivot_full.merge(df_cc_flag, on='CIF_KH_VAY', how='left')\n",
        "pivot_full['Cầm cố tại TCTD khác'] = pivot_full['Cầm cố tại TCTD khác'].fillna('')"
      ]
    },
    {
      "cell_type": "code",
      "execution_count": null,
      "metadata": {
        "id": "DNsEF-jkgr8t"
      },
      "outputs": [],
      "source": [
        "# Top 10 KHCN thay đổi ngày 12/05/2025\n",
        "top5_khcn = pivot_full[pivot_full['CUSTTPCD'] == 'Ca nhan'].nlargest(10, 'DƯ NỢ')['CIF_KH_VAY']\n",
        "pivot_full['Top 10 dư nợ KHCN'] = pivot_full['CIF_KH_VAY'].apply(lambda x: 'x' if x in top5_khcn.values else '')\n",
        "\n",
        "# Top 10 KHDN thay đổi 12/05/2025\n",
        "top5_khdn = pivot_full[pivot_full['CUSTTPCD'] == 'Doanh nghiep'].nlargest(10, 'DƯ NỢ')['CIF_KH_VAY']\n",
        "pivot_full['Top 10 dư nợ KHDN'] = pivot_full['CIF_KH_VAY'].apply(lambda x: 'x' if x in top5_khdn.values else '')\n"
      ]
    },
    {
      "cell_type": "code",
      "execution_count": null,
      "metadata": {
        "id": "nTxgWEUQZvq1"
      },
      "outputs": [],
      "source": []
    },
    {
      "cell_type": "code",
      "execution_count": null,
      "metadata": {
        "id": "mm0UiEAnC2SH"
      },
      "outputs": [],
      "source": [
        "# import pandas as pd\n",
        "\n",
        "# # Ngày đánh giá\n",
        "# ngay_danh_gia = pd.to_datetime(\"2025-09-30\")\n",
        "\n",
        "# # Danh sách loại tài sản R34\n",
        "# loai_ts_r34 = ['BĐS', 'MMTB', 'PTVT']\n",
        "\n",
        "# # Chỉ áp dụng với các dòng thuộc R34\n",
        "# mask_r34 = df_crm4_filtered['LOAI_TS'].isin(loai_ts_r34)\n",
        "\n",
        "# # Chuẩn hóa ngày định giá\n",
        "# df_crm4_filtered['VALUATION_DATE'] = pd.to_datetime(df_crm4_filtered['VALUATION_DATE'], errors='coerce')\n",
        "\n",
        "# # Tính số ngày quá hạn: Ngày đánh giá - ngày định giá - 365 ngày\n",
        "# df_crm4_filtered.loc[mask_r34, 'SO_NGAY_QUA_HAN'] = (\n",
        "#     (ngay_danh_gia - df_crm4_filtered.loc[mask_r34, 'VALUATION_DATE']).dt.days - 365\n",
        "# )\n",
        "\n",
        "# # Tính số tháng quá hạn: (Ngày đánh giá - ngày định giá)/31 - 12\n",
        "# df_crm4_filtered.loc[mask_r34, 'SO_THANG_QUA_HAN'] = (\n",
        "#     ((ngay_danh_gia - df_crm4_filtered.loc[mask_r34, 'VALUATION_DATE']).dt.days / 31) - 12\n",
        "# )\n",
        "\n",
        "# # Lọc CIF có tài sản quá hạn > 30 ngày\n",
        "# cif_quahan = df_crm4_filtered[\n",
        "#     df_crm4_filtered['SO_NGAY_QUA_HAN'] > 30\n",
        "# ]['CIF_KH_VAY'].unique()\n",
        "\n",
        "# # Đánh dấu \"x\" trong pivot_full nếu có TSBĐ quá hạn định giá\n",
        "# pivot_full['KH có TSBĐ quá hạn định giá'] = pivot_full['CIF_KH_VAY'].apply(\n",
        "#     lambda x: 'X' if x in cif_quahan else ''\n",
        "# )\n"
      ]
    },
    {
      "cell_type": "markdown",
      "source": [
        "ra quy định về định giá (11/8/20225)"
      ],
      "metadata": {
        "id": "Bbl9gwsp6iMH"
      }
    },
    {
      "cell_type": "code",
      "source": [
        "import pandas as pd\n",
        "\n",
        "# Ngày đánh giá\n",
        "ngay_danh_gia = pd.to_datetime(\"2025-09-30\")\n",
        "\n",
        "# Danh sách loại tài sản\n",
        "loai_ts_r34 = ['BĐS', 'MMTB', 'PTVT']\n",
        "\n",
        "# Chỉ áp dụng với các dòng thuộc R34\n",
        "mask_r34 = df_crm4_filtered['LOAI_TS'].isin(loai_ts_r34)\n",
        "\n",
        "# Chuẩn hóa ngày định giá\n",
        "df_crm4_filtered['VALUATION_DATE'] = pd.to_datetime(df_crm4_filtered['VALUATION_DATE'], errors='coerce')\n",
        "\n",
        "# Tính số ngày quá hạn: Ngày đánh giá - ngày định giá - 365 ngày\n",
        "df_crm4_filtered.loc[mask_r34, 'SO_NGAY_QUA_HAN'] = (\n",
        "    (ngay_danh_gia - df_crm4_filtered.loc[mask_r34, 'VALUATION_DATE']).dt.days - 365\n",
        ")\n",
        "\n",
        "# Tính số tháng quá hạn theo loại tài sản\n",
        "df_crm4_filtered.loc[df_crm4_filtered['LOAI_TS'] == 'BĐS', 'SO_THANG_QUA_HAN'] = (\n",
        "    ((ngay_danh_gia - df_crm4_filtered.loc[df_crm4_filtered['LOAI_TS'] == 'BĐS', 'VALUATION_DATE']).dt.days / 31) - 18\n",
        ")\n",
        "\n",
        "df_crm4_filtered.loc[df_crm4_filtered['LOAI_TS'].isin(['MMTB', 'PTVT']), 'SO_THANG_QUA_HAN'] = (\n",
        "    ((ngay_danh_gia - df_crm4_filtered.loc[df_crm4_filtered['LOAI_TS'].isin(['MMTB', 'PTVT']), 'VALUATION_DATE']).dt.days / 31) - 12\n",
        ")\n",
        "\n",
        "# Lọc CIF có tài sản quá hạn > 30 ngày\n",
        "cif_quahan = df_crm4_filtered[\n",
        "    df_crm4_filtered['SO_NGAY_QUA_HAN'] > 30\n",
        "]['CIF_KH_VAY'].unique()\n",
        "\n",
        "# Đánh dấu \"X\" trong pivot_full nếu có TSBĐ quá hạn định giá\n",
        "pivot_full['KH có TSBĐ quá hạn định giá'] = pivot_full['CIF_KH_VAY'].apply(\n",
        "    lambda x: 'X' if x in cif_quahan else ''\n",
        ")\n"
      ],
      "metadata": {
        "id": "GnIAsPu76msa"
      },
      "execution_count": null,
      "outputs": []
    },
    {
      "cell_type": "markdown",
      "metadata": {
        "id": "AQn-cnW7jnUk"
      },
      "source": []
    },
    {
      "cell_type": "markdown",
      "metadata": {
        "id": "e7aLx-_4k8ZW"
      },
      "source": [
        "muc 17"
      ]
    },
    {
      "cell_type": "code",
      "execution_count": null,
      "metadata": {
        "id": "KA3ihnNFl8vh"
      },
      "outputs": [],
      "source": [
        "df_sol = pd.read_excel('/content/vb/Muc17_Lop2_TSTC 4.xlsx')"
      ]
    },
    {
      "cell_type": "code",
      "execution_count": null,
      "metadata": {
        "id": "Rgj_pDUL9vIa"
      },
      "outputs": [],
      "source": [
        "# Giả sử crm4_filter đã được xử lý trước đó\n",
        "ds_secu = df_crm4_filtered['SECU_SRL_NUM'].dropna().unique()\n"
      ]
    },
    {
      "cell_type": "markdown",
      "metadata": {
        "id": "xSLAgROGHOGs"
      },
      "source": []
    },
    {
      "cell_type": "code",
      "execution_count": null,
      "metadata": {
        "id": "WhFJlTfkAbgK"
      },
      "outputs": [],
      "source": [
        "# Lọc df_17 sao cho mã trong cột C01 nằm trong danh sách đã lấy\n",
        "df_17_filtered = df_sol[df_sol['C01'].isin(ds_secu)]\n"
      ]
    },
    {
      "cell_type": "code",
      "execution_count": null,
      "metadata": {
        "id": "SN6SdwvHSNnL"
      },
      "outputs": [],
      "source": [
        "\n",
        "# # Cho phép người dùng nhập tỉnh/thành cần so sánh\n",
        "# dia_ban_kt = input(\"Nhập tên tỉnh/thành của đơn vị đang kiểm toán (ví dụ: Bạc Liêu): \").strip().lower()\n",
        "\n",
        "\n"
      ]
    },
    {
      "cell_type": "markdown",
      "source": [
        "28072025"
      ],
      "metadata": {
        "id": "lnHRJwyWG0Dc"
      }
    },
    {
      "cell_type": "code",
      "source": [
        "# Cho phép người dùng nhập nhiều tỉnh/thành\n",
        "dia_ban_kt_input = input(\"Nhập tên tỉnh/thành của đơn vị đang kiểm toán (phân cách bằng dấu phẩy, ví dụ: Hồ Chí Minh, Long An): \")\n",
        "# Tách chuỗi, chuẩn hóa chữ thường, bỏ khoảng trắng thừa\n",
        "dia_ban_kt = [t.strip().lower() for t in dia_ban_kt_input.split(',') if t.strip()]"
      ],
      "metadata": {
        "id": "yuZZZCasGwC0",
        "colab": {
          "base_uri": "https://localhost:8080/"
        },
        "outputId": "4df7f12d-0ab3-47a7-c09b-297b20c80ede"
      },
      "execution_count": null,
      "outputs": [
        {
          "name": "stdout",
          "output_type": "stream",
          "text": [
            "Nhập tên tỉnh/thành của đơn vị đang kiểm toán (phân cách bằng dấu phẩy, ví dụ: Hồ Chí Minh, Long An): thanh pho da nang\n"
          ]
        }
      ]
    },
    {
      "cell_type": "code",
      "execution_count": null,
      "metadata": {
        "id": "dFcljSNTUI4G"
      },
      "outputs": [],
      "source": [
        "# Bước 1: Lọc \"Bất động sản\" từ df_sol (Mục 17)\n",
        "df_bds = df_17_filtered[df_17_filtered['C02'].str.strip() == 'Bat dong san'].copy()\n"
      ]
    },
    {
      "cell_type": "code",
      "execution_count": null,
      "metadata": {
        "id": "Soz_JvkTTuaZ"
      },
      "outputs": [],
      "source": [
        "print(df_bds)"
      ]
    },
    {
      "cell_type": "code",
      "execution_count": null,
      "metadata": {
        "id": "9j9si2YyTdGN"
      },
      "outputs": [],
      "source": [
        "# Bước 2: Đối chiếu mã tài sản giữa C01 (df_sol) và SECU_SRL_NUM (CRM4)\n",
        "# Chỉ giữ tài sản thuộc Sol đó (có trong df_crm4)\n",
        "df_bds_matched = df_bds[df_bds['C01'].isin(df_crm4['SECU_SRL_NUM'])].copy()\n"
      ]
    },
    {
      "cell_type": "code",
      "execution_count": null,
      "metadata": {
        "id": "VSXQG5zFWIkH"
      },
      "outputs": [],
      "source": [
        "print(df_bds_matched)"
      ]
    },
    {
      "cell_type": "code",
      "execution_count": null,
      "metadata": {
        "id": "_3wyLEMZTjDT"
      },
      "outputs": [],
      "source": [
        "# Bước 3: Tách tỉnh/thành phố từ cột C19 (lấy phần sau dấu phẩy cuối)\n",
        "def extract_tinh_thanh(diachi):\n",
        "    if pd.isna(diachi): return ''\n",
        "    parts = diachi.split(',')\n",
        "    return parts[-1].strip().lower() if parts else ''\n",
        "\n",
        "df_bds_matched['TINH_TP_TSBD'] = df_bds_matched['C19'].apply(extract_tinh_thanh)\n",
        "\n"
      ]
    },
    {
      "cell_type": "code",
      "source": [
        "df_bds_matched"
      ],
      "metadata": {
        "id": "qfXNAnU841GD"
      },
      "execution_count": null,
      "outputs": []
    },
    {
      "cell_type": "markdown",
      "source": [
        "28072025"
      ],
      "metadata": {
        "id": "WEgnR_VIKDQZ"
      }
    },
    {
      "cell_type": "code",
      "source": [
        "# Sửa lại điều kiện so sánh, dùng \"not in\"\n",
        "# Cũng nên chuẩn hóa cột 'TINH_TP_TSBD' để đảm bảo so sánh chính xác\n",
        "df_bds_matched['CANH_BAO_TS_KHAC_DIABAN'] = df_bds_matched['TINH_TP_TSBD'].apply(\n",
        "    lambda x: 'x' if x and x.strip().lower() not in dia_ban_kt else ''\n",
        ")"
      ],
      "metadata": {
        "id": "b7yEleYvKEt8"
      },
      "execution_count": null,
      "outputs": []
    },
    {
      "cell_type": "code",
      "execution_count": null,
      "metadata": {
        "id": "I5wMyxKwTnPu"
      },
      "outputs": [],
      "source": [
        "# Bước 5: Lấy danh sách CIF có tài sản khác địa bàn (dựa vào mã tài sản map sang CRM4)\n",
        "ma_ts_canh_bao = df_bds_matched[df_bds_matched['CANH_BAO_TS_KHAC_DIABAN'] == 'x']['C01'].unique()\n",
        "cif_canh_bao = df_crm4[df_crm4['SECU_SRL_NUM'].isin(ma_ts_canh_bao)]['CIF_KH_VAY'].dropna().unique()\n",
        "\n"
      ]
    },
    {
      "cell_type": "code",
      "execution_count": null,
      "metadata": {
        "id": "f8eFS8PLWU1U"
      },
      "outputs": [],
      "source": []
    },
    {
      "cell_type": "code",
      "execution_count": null,
      "metadata": {
        "id": "eICglLuGTo6t"
      },
      "outputs": [],
      "source": [
        "# Bước 6: Đánh dấu trong pivot_full nếu khách có tài sản khác địa bàn (không dùng merge)\n",
        "pivot_full['KH có TSBĐ khác địa bàn'] = pivot_full['CIF_KH_VAY'].apply(\n",
        "    lambda x: 'x' if x in cif_canh_bao else ''\n",
        ")"
      ]
    },
    {
      "cell_type": "code",
      "source": [],
      "metadata": {
        "id": "QjcuhwfATfCd"
      },
      "execution_count": null,
      "outputs": []
    },
    {
      "cell_type": "markdown",
      "metadata": {
        "id": "TUpoPshWoZjr"
      },
      "source": [
        "tieu chi 3\n"
      ]
    },
    {
      "cell_type": "code",
      "execution_count": null,
      "metadata": {
        "id": "IEGtrmI0oYfc"
      },
      "outputs": [],
      "source": [
        "df_55 = pd.read_excel('/content/vb/Muc55_1610.xlsx')\n",
        "df_56 = pd.read_excel('/content/vb/Muc56_1610.xlsx')"
      ]
    },
    {
      "cell_type": "code",
      "execution_count": null,
      "metadata": {
        "id": "rvOP1tJURd_s",
        "colab": {
          "base_uri": "https://localhost:8080/"
        },
        "outputId": "c867bb9c-607a-494e-aa9c-79255125b16e"
      },
      "outputs": [
        {
          "output_type": "stream",
          "name": "stderr",
          "text": [
            "/tmp/ipython-input-3935960843.py:8: UserWarning: Could not infer format, so each element will be parsed individually, falling back to `dateutil`. To ensure parsing is consistent and as-expected, please specify a format.\n",
            "  df_tt['NGAY'] = pd.to_datetime(df_tt['NGAY_TT'], errors='coerce')\n"
          ]
        }
      ],
      "source": [
        "import pandas as pd\n",
        "\n",
        "# -------------------- CHUẨN HÓA MỤC 55 - TẤT TOÁN --------------------\n",
        "df_tt = df_55[['CUSTSEQLN', 'NMLOC', 'KHE_UOC', 'SOTIENGIAINGAN', 'NGAYGN', 'NGAYDH', 'NGAY_TT', 'LOAITIEN']].copy()\n",
        "df_tt.columns = ['CIF', 'TEN_KHACH_HANG', 'KHE_UOC', 'SO_TIEN_GIAI_NGAN_VND',\n",
        "                 'NGAY_GIAI_NGAN', 'NGAY_DAO_HAN', 'NGAY_TT', 'LOAI_TIEN_HD']\n",
        "df_tt['GIAI_NGAN_TT'] = 'Tất toán'\n",
        "df_tt['NGAY'] = pd.to_datetime(df_tt['NGAY_TT'], errors='coerce')\n",
        "\n",
        "# -------------------- CHUẨN HÓA MỤC 56 - GIẢI NGÂN --------------------\n",
        "df_gn = df_56[['CIF', 'TEN_KHACH_HANG', 'KHE_UOC', 'SO_TIEN_GIAI_NGAN_VND',\n",
        "               'NGAY_GIAI_NGAN', 'NGAY_DAO_HAN', 'LOAI_TIEN_HD']].copy()\n",
        "df_gn['GIAI_NGAN_TT'] = 'Giải ngân'\n",
        "df_gn['NGAY_GIAI_NGAN'] = pd.to_datetime(df_gn['NGAY_GIAI_NGAN'], format='%Y%m%d', errors='coerce')\n",
        "df_gn['NGAY_DAO_HAN'] = pd.to_datetime(df_gn['NGAY_DAO_HAN'], format='%Y%m%d', errors='coerce')\n",
        "df_gn['NGAY'] = df_gn['NGAY_GIAI_NGAN']\n",
        "\n",
        "# -------------------- GỘP 2 BẢNG LẠI --------------------\n",
        "df_gop = pd.concat([df_tt, df_gn], ignore_index=True)\n",
        "df_gop = df_gop[df_gop['NGAY'].notna()]  # Loại bỏ bản ghi không có ngày\n",
        "df_gop = df_gop.sort_values(by=['CIF', 'NGAY', 'GIAI_NGAN_TT'])\n",
        "\n",
        "# -------------------- ĐẾM SỐ KHẾ ƯỚC GN / TT THEO CIF & NGÀY --------------------\n",
        "df_count = df_gop.groupby(['CIF', 'NGAY', 'GIAI_NGAN_TT']).size().unstack(fill_value=0).reset_index()\n",
        "df_count['CO_CA_GN_VA_TT'] = ((df_count.get('Giải ngân', 0) > 0) & (df_count.get('Tất toán', 0) > 0)).astype(int)\n",
        "\n",
        "# -------------------- DANH SÁCH CẢNH BÁO --------------------\n",
        "ds_nhieu_tt_gn = df_count[\n",
        "    (df_count.get('Giải ngân', 0) > 1) | (df_count.get('Tất toán', 0) > 1)\n",
        "]['CIF'].unique()\n",
        "\n",
        "ds_ca_gn_tt = df_count[df_count['CO_CA_GN_VA_TT'] == 1]['CIF'].unique()\n",
        "\n",
        "# Ép kiểu cột CIF thành chuỗi để so sánh chính xác\n",
        "df_count['CIF'] = df_count['CIF'].astype(str)\n",
        "df_gop['CIF'] = df_gop['CIF'].astype(str)\n",
        "df_tt['CIF'] = df_tt['CIF'].astype(str)\n",
        "df_gn['CIF'] = df_gn['CIF'].astype(str)\n",
        "\n",
        "# Tạo danh sách cảnh báo đã ép kiểu\n",
        "ds_nhieu_tt_gn = df_count[\n",
        "    (df_count.get('Giải ngân', 0) > 1) | (df_count.get('Tất toán', 0) > 1)\n",
        "]['CIF'].astype(str).unique()\n",
        "\n",
        "ds_ca_gn_tt = df_count[df_count['CO_CA_GN_VA_TT'] == 1]['CIF'].astype(str).unique()\n",
        "\n",
        "# Ép kiểu CIF_KH_VAY trong pivot để so sánh\n",
        "pivot_full['CIF_KH_VAY'] = pivot_full['CIF_KH_VAY'].astype(str)\n",
        "\n",
        "# Đánh dấu vào pivot\n",
        "pivot_full['KH có cả GNG và TT trong 1 ngày'] = pivot_full['CIF_KH_VAY'].apply(\n",
        "    lambda x: 'x' if x in ds_ca_gn_tt else ''\n",
        ")\n"
      ]
    },
    {
      "cell_type": "code",
      "execution_count": null,
      "metadata": {
        "id": "aVZtz2vck7F5"
      },
      "outputs": [],
      "source": [
        "import pandas as pd\n",
        "import numpy as np\n",
        "\n",
        "# 1. Đọc dữ liệu chậm trả\n",
        "df_delay = pd.read_excel(\"/content/vb/Muc57_1610.xlsx\")\n",
        "\n",
        "# 2. Chuẩn hóa ngày\n",
        "df_delay['NGAY_DEN_HAN_TT'] = pd.to_datetime(df_delay['NGAY_DEN_HAN_TT'], errors='coerce')\n",
        "df_delay['NGAY_THANH_TOAN'] = pd.to_datetime(df_delay['NGAY_THANH_TOAN'], errors='coerce')\n",
        "\n",
        "# 3. Điền ngày thanh toán = ngày đánh giá nếu thiếu\n",
        "ngay_danh_gia = pd.to_datetime(\"2025-09-30\")\n",
        "df_delay['NGAY_THANH_TOAN_FILL'] = df_delay['NGAY_THANH_TOAN'].fillna(ngay_danh_gia)\n",
        "\n",
        "# 4. Tính số ngày chậm trả\n",
        "df_delay['SO_NGAY_CHAM_TRA'] = (df_delay['NGAY_THANH_TOAN_FILL'] - df_delay['NGAY_DEN_HAN_TT']).dt.days\n",
        "\n",
        "# 5. Lọc giai đoạn 2023–2025\n",
        "mask_period = df_delay['NGAY_DEN_HAN_TT'].dt.year.between(2023, 2025)\n",
        "df_delay = df_delay[mask_period].copy()\n",
        "\n",
        "# 6. Gộp dư nợ & nhóm nợ từ pivot_full\n",
        "df_crm32 = pivot_full.copy()\n",
        "df_crm32 = df_crm32.rename(columns={'CIF_KH_VAY': 'CIF_ID'})\n",
        "\n",
        "# --- Sửa lỗi kiểu dữ liệu trước khi merge lần đầu ---\n",
        "df_crm32['CIF_ID'] = df_crm32['CIF_ID'].astype(str)\n",
        "df_delay['CIF_ID'] = df_delay['CIF_ID'].astype(str)\n",
        "\n",
        "df_delay = df_delay.merge(\n",
        "    df_crm32[['CIF_ID', 'DƯ NỢ', 'NHOM_NO']],\n",
        "    on='CIF_ID', how='left'\n",
        ")\n",
        "\n",
        "# 7. Chỉ lấy nợ nhóm 1\n",
        "df_delay = df_delay[df_delay['NHOM_NO'] == 1].copy()\n",
        "\n",
        "# 8. Gán cấp độ chậm trả\n",
        "def cap_cham_tra(days):\n",
        "    if pd.isna(days):\n",
        "        return None\n",
        "    elif days >= 10:\n",
        "        return '>=10'\n",
        "    elif days >= 4:\n",
        "        return '4-9'\n",
        "    elif days > 0:\n",
        "        return '<4'\n",
        "    else:\n",
        "        return None\n",
        "\n",
        "df_delay['CAP_CHAM_TRA'] = df_delay['SO_NGAY_CHAM_TRA'].apply(cap_cham_tra)\n",
        "\n",
        "# Loại bỏ các dòng có CAP_CHAM_TRA là None\n",
        "df_delay = df_delay.dropna(subset=['CAP_CHAM_TRA']).copy()\n",
        "\n",
        "\n",
        "# 9. Ưu tiên mỗi CIF_ID + ngày chỉ 1 cấp độ cao nhất\n",
        "df_delay['NGAY'] = df_delay['NGAY_DEN_HAN_TT'].dt.date\n",
        "df_delay.sort_values(['CIF_ID', 'NGAY', 'CAP_CHAM_TRA'],\n",
        "                     key=lambda s: s.map({'>=10':0, '4-9':1, '<4':2}),\n",
        "                     inplace=True)\n",
        "df_unique = df_delay.drop_duplicates(subset=['CIF_ID', 'NGAY'], keep='first').copy()\n",
        "\n",
        "# 10. Đếm số lần theo cấp độ\n",
        "df_dem = df_unique.groupby(['CIF_ID', 'CAP_CHAM_TRA']).size().unstack(fill_value=0)\n",
        "\n",
        "# 11. Gắn cờ vào 2 cột\n",
        "# Sử dụng .get() với giá trị mặc định 0 để tránh KeyError nếu cột không tồn tại sau unstack\n",
        "df_dem['KH Phát sinh chậm trả > 10 ngày'] = np.where(df_dem.get('>=10', 0) > 0, 'x', '')\n",
        "df_dem['KH Phát sinh chậm trả 4-9 ngày'] = np.where(\n",
        "    (df_dem.get('>=10', 0) == 0) & (df_dem.get('4-9', 0) > 0), 'x', ''\n",
        ")\n",
        "\n",
        "# 12. Gộp vào pivot_full\n",
        "# --- Sửa lỗi kiểu dữ liệu trước khi merge lần cuối ---\n",
        "pivot_full['CIF_KH_VAY'] = pivot_full['CIF_KH_VAY'].astype(str)\n",
        "\n",
        "# Gộp các cột cờ từ df_dem vào pivot_full\n",
        "cols_to_merge = ['KH Phát sinh chậm trả > 10 ngày', 'KH Phát sinh chậm trả 4-9 ngày']\n",
        "\n",
        "# Chỉ chọn các cột thực sự có trong df_dem (để an toàn, mặc dù .get() ở bước 11 đã giúp)\n",
        "cols_to_merge_existing = [col for col in cols_to_merge if col in df_dem.columns]\n",
        "\n",
        "if cols_to_merge_existing: # Chỉ merge nếu có cột để merge\n",
        "    pivot_full = pivot_full.merge(\n",
        "        df_dem[cols_to_merge_existing],\n",
        "        left_on='CIF_KH_VAY', right_index=True, how='left'\n",
        "    )\n",
        "\n",
        "# 13. Điền trống nếu không có\n",
        "# Điền giá trị rỗng ('') vào các ô NaN trong các cột cờ đã được gộp\n",
        "for col in cols_to_merge_existing:\n",
        "     pivot_full[col] = pivot_full[col].fillna('')\n",
        "\n",
        "# Bạn có thể thêm print(pivot_full.head()) ở cuối để xem kết quả\n"
      ]
    },
    {
      "cell_type": "code",
      "execution_count": null,
      "metadata": {
        "id": "tHRH2dYUyZN4"
      },
      "outputs": [],
      "source": [
        "with pd.ExcelWriter('/content/KQ_1610_.xlsx', engine='openpyxl') as writer:\n",
        "    df_crm4_filtered.to_excel(writer, sheet_name='df_crm4_LOAI_TS', index=False)\n",
        "    pivot_final.to_excel(writer, sheet_name='KQ_CRM4', index=False)\n",
        "    pivot_merge.to_excel(writer, sheet_name='Pivot_crm4', index=False)\n",
        "    df_crm32_filtered.to_excel(writer, sheet_name='df_crm32_LOAI_TS', index=False)\n",
        "    pivot_full.to_excel(writer, sheet_name='KQ_KH', index=False)\n",
        "    pivot_mucdich.to_excel(writer, sheet_name='Pivot_crm32', index=False)\n",
        "\n",
        "    #df_r34.to_excel(writer, sheet_name='tieu chi 1_dot3', index=False)\n",
        "    df_delay.to_excel(writer, sheet_name='tieu chi 4', index=False)\n",
        "    df_gop.to_excel(writer, sheet_name='tieu chi 3_dot3', index=False)\n",
        "    df_count.to_excel(writer, sheet_name='tieu chi 3_dot3_1', index=False)\n",
        "    df_bds_matched.to_excel(writer, sheet_name='tieu chi 2_dot3', index=False)"
      ]
    }
  ],
  "metadata": {
    "colab": {
      "provenance": [],
      "include_colab_link": true
    },
    "kernelspec": {
      "display_name": "Python 3",
      "name": "python3"
    },
    "language_info": {
      "name": "python"
    }
  },
  "nbformat": 4,
  "nbformat_minor": 0
}